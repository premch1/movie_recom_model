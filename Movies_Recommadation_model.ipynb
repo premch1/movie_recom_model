{
  "nbformat": 4,
  "nbformat_minor": 0,
  "metadata": {
    "colab": {
      "provenance": [],
      "toc_visible": true,
      "include_colab_link": true
    },
    "kernelspec": {
      "name": "python3",
      "display_name": "Python 3"
    },
    "language_info": {
      "name": "python"
    }
  },
  "cells": [
    {
      "cell_type": "markdown",
      "metadata": {
        "id": "view-in-github",
        "colab_type": "text"
      },
      "source": [
        "<a href=\"https://colab.research.google.com/github/premch1/movie_recom_model/blob/main.2/Movies_Recommadation_model.ipynb\" target=\"_parent\"><img src=\"https://colab.research.google.com/assets/colab-badge.svg\" alt=\"Open In Colab\"/></a>"
      ]
    },
    {
      "cell_type": "code",
      "execution_count": null,
      "metadata": {
        "id": "EMDUtmEEwx17"
      },
      "outputs": [],
      "source": [
        " import pandas as pd\n",
        "\n",
        "# Load your dataset\n",
        "movies = pd.read_csv('/content/movie dataset2.zip')\n",
        "\n",
        "# Display the first few rows of the dataset\n",
        "print(movies.head())\n"
      ]
    },
    {
      "cell_type": "code",
      "source": [
        "from google.colab import drive\n",
        "drive.mount('/content/drive')"
      ],
      "metadata": {
        "id": "y6zJ6hl9qU0N"
      },
      "execution_count": null,
      "outputs": []
    },
    {
      "cell_type": "code",
      "source": [
        "# Example: Extracting genres as a list\n",
        "movies['Movie_Genre'] = movies['Movie_Genre'].apply(lambda x: x.split('|'))\n"
      ],
      "metadata": {
        "id": "yJqTIRy4xsRO"
      },
      "execution_count": null,
      "outputs": []
    },
    {
      "cell_type": "code",
      "source": [
        "from sklearn.feature_extraction.text import TfidfVectorizer\n",
        "from sklearn.metrics.pairwise import linear_kernel\n",
        "\n",
        "# Combine relevant features into a single string\n",
        "def combine_features(row):\n",
        "    return ' '.join(row['Movie_Genre']) + ' ' + str(row['Movie_Cast']) + ' ' + str(row['Movie_Crew'])+ ' '+ str(row['Movie_Title'])\n",
        "\n",
        "movies['combined_features'] = movies.apply(combine_features, axis=1)\n",
        "\n",
        "# Use TF-IDF Vectorizer to convert text data into vectors\n",
        "tfidf = TfidfVectorizer(stop_words='english')\n",
        "tfidf_matrix = tfidf.fit_transform(movies['combined_features'])\n",
        "\n",
        "# Compute the cosine similarity matrix\n",
        "cosine_sim = linear_kernel(tfidf_matrix, tfidf_matrix)\n"
      ],
      "metadata": {
        "id": "wm2XmAP1xwmL"
      },
      "execution_count": null,
      "outputs": []
    },
    {
      "cell_type": "code",
      "source": [
        "indices = pd.Series(movies.index, index=movies['Movie_Title']).drop_duplicates()\n",
        "\n",
        "def recommend_movies(title, cosine_sim=cosine_sim):\n",
        "    idx = indices[title]\n",
        "    sim_scores = list(enumerate(cosine_sim[idx]))\n",
        "    sim_scores = sorted(sim_scores, key=lambda x: x[1], reverse=True)\n",
        "    sim_scores = sim_scores[1:11]\n",
        "    movie_indices = [i[0] for i in sim_scores]\n",
        "    return movies['Movie_Title'].iloc[movie_indices]\n"
      ],
      "metadata": {
        "id": "4guLC_D1zM7x"
      },
      "execution_count": null,
      "outputs": []
    },
    {
      "cell_type": "code",
      "source": [
        "print(recommend_movies('Pulp Fiction'))"
      ],
      "metadata": {
        "id": "4NM6xVl5orkm"
      },
      "execution_count": null,
      "outputs": []
    },
    {
      "cell_type": "code",
      "source": [],
      "metadata": {
        "id": "sxRvNG8LrKqP"
      },
      "execution_count": null,
      "outputs": []
    }
  ]
}